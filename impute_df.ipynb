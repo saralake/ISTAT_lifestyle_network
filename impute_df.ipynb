{
 "cells": [
  {
   "cell_type": "code",
   "execution_count": 2,
   "id": "3f8bcee5",
   "metadata": {},
   "outputs": [],
   "source": [
    "import pyreadr\n",
    "import pandas as pd\n",
    "from sklearn.experimental import enable_iterative_imputer"
   ]
  },
  {
   "cell_type": "code",
   "execution_count": 7,
   "id": "17ae4b3d",
   "metadata": {},
   "outputs": [],
   "source": [
    "# Replace with your file path\n",
    "test_dat = pyreadr.read_r('Intermediate_data/ver1/test_dat_before_imputing.RData')"
   ]
  },
  {
   "cell_type": "code",
   "execution_count": 8,
   "id": "31b9ae98-8e5c-4547-ad35-38ac56a8ba8c",
   "metadata": {},
   "outputs": [
    {
     "name": "stdout",
     "output_type": "stream",
     "text": [
      "odict_keys(['test_dat'])\n"
     ]
    }
   ],
   "source": [
    "# The file may contain one or more R objects (e.g., data frames, lists)\n",
    "# result is a dictionary where keys are the names of the objects in the RData file\n",
    "print(test_dat.keys())"
   ]
  },
  {
   "cell_type": "code",
   "execution_count": 9,
   "id": "7eb9b697-5ae3-4c51-ae3d-8fa12690201f",
   "metadata": {},
   "outputs": [],
   "source": [
    "# Extract one object (for example, the first data frame)\n",
    "test_dat = next(iter(test_dat.values()))"
   ]
  },
  {
   "cell_type": "code",
   "execution_count": 10,
   "id": "724f1331-2138-41ea-bb6d-500388b86e00",
   "metadata": {},
   "outputs": [
    {
     "name": "stdout",
     "output_type": "stream",
     "text": [
      "<class 'pandas.core.frame.DataFrame'>\n",
      "   NCOMP  ETAMi  SESSO  STCIVMi AMATR  ISTRMi  CONDMi LAVPAS POSIZMi  CITTMi  \\\n",
      "0      2     12      2        2  1991       9       3      1     NaN       1   \n",
      "1      4     11      2        2  2001       7       1    NaN       2       1   \n",
      "2      4      7      1        1   NaN       7       2      1     NaN       1   \n",
      "3      2     15      2        2  1970       7       3      1     NaN       1   \n",
      "4      4     10      2        2  2013       7       3      2       2       1   \n",
      "\n",
      "   ... PPAPO PSIND PGRVO PAECO PCULT  PASPRO  INCSPI  BMI  RISEC   ID  \n",
      "0  ...   NaN   NaN   NaN   NaN   NaN     NaN       1    2      2  1_2  \n",
      "1  ...     1     3     5     1     3       5       1    2      2  2_2  \n",
      "2  ...     1     3     5     1     3       5       2    2      2  2_4  \n",
      "3  ...     1     3     5     1     3       5       1    3      2  3_2  \n",
      "4  ...     1     3     5     1     3       5       1    2      3  4_2  \n",
      "\n",
      "[5 rows x 103 columns]\n"
     ]
    }
   ],
   "source": [
    "# Verify it's a pandas DataFrame\n",
    "print(type(test_dat))\n",
    "print(test_dat.head())"
   ]
  },
  {
   "cell_type": "code",
   "execution_count": 12,
   "id": "7459bd55-e97f-43ac-becd-0f859a189364",
   "metadata": {},
   "outputs": [
    {
     "name": "stdout",
     "output_type": "stream",
     "text": [
      "<class 'pandas.core.frame.DataFrame'>\n",
      "   NCOMP  ETAMi  SESSO  STCIVMi AMATR  ISTRMi  CONDMi LAVPAS POSIZMi  CITTMi  \\\n",
      "0      2     12      1        2  1991       7       2      2       2       1   \n",
      "1      4     11      1        2  2001       7       1    NaN       2       1   \n",
      "2      4      8      1        1   NaN       7       2      1     NaN       1   \n",
      "3      2     15      1        2  1970       7       3      2       2       1   \n",
      "4      4     10      1        2  2013       9       1    NaN       3       1   \n",
      "\n",
      "   ... PPAPO PSIND PGRVO PAECO PCULT  PASPRO  INCSPI  BMI  RISEC   ID  \n",
      "0  ...     1     3     5     1     3       5       1    3      2  1_1  \n",
      "1  ...     1     3     5     1     3       5       1    2      2  2_1  \n",
      "2  ...     1     3     5     1     3       5       2    2      2  2_3  \n",
      "3  ...     1     3     5     1     3       5       1    2      2  3_1  \n",
      "4  ...     1     3     5     1     3       5       1    3      3  4_1  \n",
      "\n",
      "[5 rows x 103 columns]\n"
     ]
    }
   ],
   "source": [
    "train_dat = pyreadr.read_r('Intermediate_data/ver1/train_dat_before_imputing.RData')\n",
    "train_dat = next(iter(train_dat.values()))\n",
    "print(type(train_dat))\n",
    "print(train_dat.head())"
   ]
  },
  {
   "cell_type": "code",
   "execution_count": 15,
   "id": "ebdcef77-bf55-4649-9346-3884c0a80c96",
   "metadata": {},
   "outputs": [],
   "source": [
    "from sklearn.impute import IterativeImputer"
   ]
  },
  {
   "cell_type": "code",
   "execution_count": 16,
   "id": "a4a67c04-4ffd-4f5e-8b97-8e6e306d7bd4",
   "metadata": {},
   "outputs": [],
   "source": [
    "# Step 3: Define the columns you want to impute\n",
    "cols_to_impute = [\n",
    "    \"INFOR\", \"LING\", \"ARTCUL\", \"AMICI\", \"PARENT\", \"AMICI2\", \"VICINI\", \"PANPAS\", \"SALUMI\", \"POLLO\",\n",
    "    \"COV\", \"CBOV\", \"CMAIAL\", \"LATTE\", \"FORM\", \"UOVA\", \"PESCE\", \"VERD\", \"POMOD\", \"FRUTTA\", \"LEGUMI\", \"DOLCI\",\n",
    "    \"BGAS\", \"BIRRA\", \"VINO\", \"BFPAS\", \"ALCOL\", \"AMAR\", \"LIQUOR\", \"FUMO\", \"CRONI\", \"LIMITA\", \"FREQSERIE\", \"TEATRO\",\n",
    "    \"CINE\", \"MUSEO\", \"MUSIC\", \"ACMUS\", \"SPSPO\", \"DISCO\", \"MONUM\", \"FREQIN12\", \"LQUOT\", \"QUONLINE\", \"CHIES\", \"SITEC\",\n",
    "    \"SALUT\", \"RELFAM\", \"RELAM\", \"TEMLIB\", \"AMBIENTE\", \"PPAPO\", \"PSIND\", \"PGRVO\", \"PAECO\", \"PCULT\", \"PASPRO\", \"INCSPI\"\n",
    "]\n",
    "\n",
    "# Step 4: Initialize the IterativeImputer\n",
    "imputer = IterativeImputer(\n",
    "    n_nearest_features=10,\n",
    "    initial_strategy='median',\n",
    "    max_iter=300,\n",
    "    random_state=42\n",
    ")"
   ]
  },
  {
   "cell_type": "code",
   "execution_count": 17,
   "id": "29668910-9210-4c20-b811-47726128d22a",
   "metadata": {},
   "outputs": [
    {
     "name": "stderr",
     "output_type": "stream",
     "text": [
      "/opt/miniconda3/envs/impute_rdata_env/lib/python3.11/site-packages/sklearn/impute/_iterative.py:895: ConvergenceWarning: [IterativeImputer] Early stopping criterion not reached.\n",
      "  warnings.warn(\n"
     ]
    },
    {
     "name": "stdout",
     "output_type": "stream",
     "text": [
      "<class 'pandas.core.frame.DataFrame'>\n",
      "   NCOMP  ETAMi  SESSO  STCIVMi AMATR  ISTRMi  CONDMi LAVPAS POSIZMi  CITTMi  \\\n",
      "0      2     12      1        2  1991       7       2      2       2       1   \n",
      "1      4     11      1        2  2001       7       1    NaN       2       1   \n",
      "2      4      8      1        1   NaN       7       2      1     NaN       1   \n",
      "3      2     15      1        2  1970       7       3      2       2       1   \n",
      "4      4     10      1        2  2013       9       1    NaN       3       1   \n",
      "\n",
      "   ...  PPAPO  PSIND  PGRVO PAECO PCULT  PASPRO  INCSPI  BMI  RISEC   ID  \n",
      "0  ...    1.0    3.0    5.0   1.0   3.0     5.0     1.0    3      2  1_1  \n",
      "1  ...    1.0    3.0    5.0   1.0   3.0     5.0     1.0    2      2  2_1  \n",
      "2  ...    1.0    3.0    5.0   1.0   3.0     5.0     2.0    2      2  2_3  \n",
      "3  ...    1.0    3.0    5.0   1.0   3.0     5.0     1.0    2      2  3_1  \n",
      "4  ...    1.0    3.0    5.0   1.0   3.0     5.0     1.0    3      3  4_1  \n",
      "\n",
      "[5 rows x 103 columns]\n",
      "<class 'pandas.core.frame.DataFrame'>\n",
      "   NCOMP  ETAMi  SESSO  STCIVMi AMATR  ISTRMi  CONDMi LAVPAS POSIZMi  CITTMi  \\\n",
      "0      2     12      2        2  1991       9       3      1     NaN       1   \n",
      "1      4     11      2        2  2001       7       1    NaN       2       1   \n",
      "2      4      7      1        1   NaN       7       2      1     NaN       1   \n",
      "3      2     15      2        2  1970       7       3      1     NaN       1   \n",
      "4      4     10      2        2  2013       7       3      2       2       1   \n",
      "\n",
      "   ...    PPAPO     PSIND     PGRVO     PAECO     PCULT    PASPRO  INCSPI  \\\n",
      "0  ...  1.02293  3.041942  5.057351  1.008917  3.060156  5.031419     1.0   \n",
      "1  ...  1.00000  3.000000  5.000000  1.000000  3.000000  5.000000     1.0   \n",
      "2  ...  1.00000  3.000000  5.000000  1.000000  3.000000  5.000000     2.0   \n",
      "3  ...  1.00000  3.000000  5.000000  1.000000  3.000000  5.000000     1.0   \n",
      "4  ...  1.00000  3.000000  5.000000  1.000000  3.000000  5.000000     1.0   \n",
      "\n",
      "   BMI  RISEC   ID  \n",
      "0    2      2  1_2  \n",
      "1    2      2  2_2  \n",
      "2    2      2  2_4  \n",
      "3    3      2  3_2  \n",
      "4    2      3  4_2  \n",
      "\n",
      "[5 rows x 103 columns]\n"
     ]
    },
    {
     "name": "stderr",
     "output_type": "stream",
     "text": [
      "/opt/miniconda3/envs/impute_rdata_env/lib/python3.11/site-packages/sklearn/impute/_iterative.py:895: ConvergenceWarning: [IterativeImputer] Early stopping criterion not reached.\n",
      "  warnings.warn(\n"
     ]
    }
   ],
   "source": [
    "# Step 5: Define a function to impute only selected columns\n",
    "def impute_selected_columns(df, cols, imputer):\n",
    "    # Select only the subset of columns to impute\n",
    "    subset = df[cols]\n",
    "    \n",
    "    # Fit and transform only those columns\n",
    "    imputed_subset = pd.DataFrame(imputer.fit_transform(subset), columns=subset.columns, index=subset.index)\n",
    "    \n",
    "    # Replace the original columns with the imputed ones\n",
    "    df[cols] = imputed_subset\n",
    "    return df\n",
    "\n",
    "# Step 6: Apply imputation separately to each datasettrain_dat\n",
    "train_dat_imputed = impute_selected_columns(train_dat.copy(), cols_to_impute, imputer)\n",
    "test_dat_imputed = impute_selected_columns(test_dat.copy(), cols_to_impute, imputer)\n",
    "\n",
    "print(type(train_dat_imputed))\n",
    "print(train_dat_imputed.head())\n",
    "\n",
    "print(type(test_dat_imputed))\n",
    "print(test_dat_imputed.head())"
   ]
  },
  {
   "cell_type": "code",
   "execution_count": 18,
   "id": "275349c8-f26c-44de-b33e-e8f06de4fdf7",
   "metadata": {},
   "outputs": [
    {
     "name": "stdout",
     "output_type": "stream",
     "text": [
      "Imputation complete! Only the selected columns were imputed.\n"
     ]
    }
   ],
   "source": [
    "# Step 7: Save the imputed data to new CSV files\n",
    "train_dat_imputed.to_csv(\"Intermediate_data/ver1/train_dat_imputed.csv\", index=False)\n",
    "test_dat_imputed.to_csv(\"Intermediate_data/ver1/test_dat_imputed.csv\", index=False)\n",
    "\n",
    "print(\"Imputation complete! Only the selected columns were imputed.\")"
   ]
  },
  {
   "cell_type": "code",
   "execution_count": null,
   "id": "39f75537-c7d7-4126-908b-8a0abb31e42b",
   "metadata": {},
   "outputs": [],
   "source": []
  }
 ],
 "metadata": {
  "kernelspec": {
   "display_name": "Python 3 (ipykernel)",
   "language": "python",
   "name": "python3"
  },
  "language_info": {
   "codemirror_mode": {
    "name": "ipython",
    "version": 3
   },
   "file_extension": ".py",
   "mimetype": "text/x-python",
   "name": "python",
   "nbconvert_exporter": "python",
   "pygments_lexer": "ipython3",
   "version": "3.11.14"
  }
 },
 "nbformat": 4,
 "nbformat_minor": 5
}
